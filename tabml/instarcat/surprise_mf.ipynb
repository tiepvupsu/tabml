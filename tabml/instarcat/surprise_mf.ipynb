{
 "cells": [
  {
   "cell_type": "code",
   "execution_count": 1,
   "id": "9ad648c2",
   "metadata": {},
   "outputs": [
    {
     "name": "stdout",
     "output_type": "stream",
     "text": [
      "Dataset ml-100k could not be found. Do you want to download it? [Y/n] y\n",
      "Trying to download dataset from http://files.grouplens.org/datasets/movielens/ml-100k.zip...\n",
      "Done! Dataset ml-100k has been saved to /Users/tiepvu/.surprise_data/ml-100k\n",
      "Evaluating RMSE, MAE of algorithm SVD on 5 split(s).\n",
      "\n",
      "                  Fold 1  Fold 2  Fold 3  Fold 4  Fold 5  Mean    Std     \n",
      "RMSE (testset)    0.9406  0.9350  0.9345  0.9326  0.9388  0.9363  0.0029  \n",
      "MAE (testset)     0.7394  0.7372  0.7383  0.7332  0.7410  0.7378  0.0026  \n",
      "Fit time          4.92    5.02    4.97    5.43    5.31    5.13    0.20    \n",
      "Test time         0.20    0.16    0.20    0.19    0.16    0.18    0.02    \n"
     ]
    },
    {
     "data": {
      "text/plain": [
       "{'test_rmse': array([0.94057187, 0.93503422, 0.93454962, 0.93263868, 0.93876996]),\n",
       " 'test_mae': array([0.73941513, 0.73715216, 0.73830257, 0.73317781, 0.74096172]),\n",
       " 'fit_time': (4.921008825302124,\n",
       "  5.020258188247681,\n",
       "  4.972861051559448,\n",
       "  5.43076491355896,\n",
       "  5.311031103134155),\n",
       " 'test_time': (0.20417094230651855,\n",
       "  0.16419482231140137,\n",
       "  0.19553470611572266,\n",
       "  0.1893930435180664,\n",
       "  0.16150879859924316)}"
      ]
     },
     "execution_count": 1,
     "metadata": {},
     "output_type": "execute_result"
    }
   ],
   "source": [
    "from surprise import SVD\n",
    "from surprise import Dataset\n",
    "from surprise.model_selection import cross_validate\n",
    "\n",
    "# Load the movielens-100k dataset (download it if needed).\n",
    "data = Dataset.load_builtin('ml-100k')\n",
    "\n",
    "# Use the famous SVD algorithm.\n",
    "algo = SVD()\n",
    "\n",
    "# Run 5-fold cross-validation and print results.\n",
    "cross_validate(algo, data, measures=['RMSE', 'MAE'], cv=5, verbose=True)"
   ]
  },
  {
   "cell_type": "code",
   "execution_count": 2,
   "id": "367a47c1",
   "metadata": {},
   "outputs": [
    {
     "data": {
      "text/plain": [
       "<surprise.dataset.DatasetAutoFolds at 0x7fb51094baf0>"
      ]
     },
     "execution_count": 2,
     "metadata": {},
     "output_type": "execute_result"
    }
   ],
   "source": [
    "data"
   ]
  },
  {
   "cell_type": "code",
   "execution_count": 3,
   "id": "69a70470",
   "metadata": {},
   "outputs": [],
   "source": [
    "Dataset??"
   ]
  },
  {
   "cell_type": "code",
   "execution_count": null,
   "id": "ed34fc5f",
   "metadata": {},
   "outputs": [],
   "source": []
  }
 ],
 "metadata": {
  "kernelspec": {
   "display_name": "tabml_env",
   "language": "python",
   "name": "tabml_env"
  },
  "language_info": {
   "codemirror_mode": {
    "name": "ipython",
    "version": 3
   },
   "file_extension": ".py",
   "mimetype": "text/x-python",
   "name": "python",
   "nbconvert_exporter": "python",
   "pygments_lexer": "ipython3",
   "version": "3.8.7"
  }
 },
 "nbformat": 4,
 "nbformat_minor": 5
}
