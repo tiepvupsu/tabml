{
 "cells": [
  {
   "cell_type": "code",
   "execution_count": 1,
   "id": "103b9a99",
   "metadata": {},
   "outputs": [],
   "source": [
    "# https://gist.github.com/mbednarski/da08eb297304f7a66a3840e857e060a0\n",
    "import torch\n",
    "from torch.autograd import Variable\n",
    "import numpy as np\n",
    "import torch.functional as F\n",
    "import torch.nn.functional as F"
   ]
  },
  {
   "cell_type": "code",
   "execution_count": 2,
   "id": "fd6d57b5",
   "metadata": {},
   "outputs": [],
   "source": [
    "corpus = [\n",
    "    'he is a king',\n",
    "    'she is a queen',\n",
    "    'he is a man',\n",
    "    'she is a woman',\n",
    "    'warsaw is poland capital',\n",
    "    'berlin is germany capital',\n",
    "    'paris is france capital',   \n",
    "]"
   ]
  },
  {
   "cell_type": "code",
   "execution_count": 3,
   "id": "1218ac03",
   "metadata": {},
   "outputs": [],
   "source": [
    "def tokenize_corpus(corpus):\n",
    "    tokens = [x.split() for x in corpus]\n",
    "    return tokens\n",
    "\n",
    "tokenized_corpus = tokenize_corpus(corpus)"
   ]
  },
  {
   "cell_type": "code",
   "execution_count": 4,
   "id": "22a38f3b",
   "metadata": {},
   "outputs": [],
   "source": [
    "vocabulary = []\n",
    "for sentence in tokenized_corpus:\n",
    "    for token in sentence:\n",
    "        if token not in vocabulary:\n",
    "            vocabulary.append(token)\n",
    "\n",
    "word2idx = {w: idx for (idx, w) in enumerate(vocabulary)}\n",
    "idx2word = {idx: w for (idx, w) in enumerate(vocabulary)}\n",
    "\n",
    "vocabulary_size = len(vocabulary)"
   ]
  },
  {
   "cell_type": "code",
   "execution_count": 5,
   "id": "744a0349",
   "metadata": {},
   "outputs": [],
   "source": [
    "\n",
    "window_size = 2\n",
    "idx_pairs = []\n",
    "# for each sentence\n",
    "for sentence in tokenized_corpus:\n",
    "    indices = [word2idx[word] for word in sentence]\n",
    "    # Each word is treated as center word\n",
    "    for center_word_pos in range(len(indices)):\n",
    "        # for each window position\n",
    "        for w in range(-window_size, window_size + 1):\n",
    "            context_word_pos = center_word_pos + w\n",
    "            # make soure not jump out sentence\n",
    "            if context_word_pos < 0 or context_word_pos >= len(indices) or center_word_pos == context_word_pos:\n",
    "                continue\n",
    "            context_word_idx = indices[context_word_pos]\n",
    "            idx_pairs.append((indices[center_word_pos], context_word_idx))\n",
    "\n",
    "idx_pairs = np.array(idx_pairs) # it will be useful to have this as numpy array"
   ]
  },
  {
   "cell_type": "code",
   "execution_count": 6,
   "id": "b747cd77",
   "metadata": {},
   "outputs": [],
   "source": [
    "def get_input_layer(word_idx):\n",
    "    x = torch.zeros(vocabulary_size).float()\n",
    "    x[word_idx] = 1.0\n",
    "    return x"
   ]
  },
  {
   "cell_type": "code",
   "execution_count": null,
   "id": "23bf6083",
   "metadata": {},
   "outputs": [
    {
     "name": "stdout",
     "output_type": "stream",
     "text": [
      "Loss at epo 0: 4.560413843286889\n",
      "Loss at epo 10: 3.0848378811563766\n",
      "Loss at epo 20: 2.599449124506542\n",
      "Loss at epo 30: 2.3085314639977046\n",
      "Loss at epo 40: 2.109593943612916\n",
      "Loss at epo 50: 1.9755860550062998\n",
      "Loss at epo 60: 1.889017802476883\n",
      "Loss at epo 70: 1.8316652353320804\n",
      "Loss at epo 80: 1.7910164777721678\n",
      "Loss at epo 90: 1.7600862792560032\n",
      "Loss at epo 100: 1.7352186982120787\n",
      "Loss at epo 110: 1.7144906942333493\n",
      "Loss at epo 120: 1.6968031372342791\n",
      "Loss at epo 130: 1.6814635183129991\n",
      "Loss at epo 140: 1.6680187370095934\n",
      "Loss at epo 150: 1.6561724943774088\n",
      "Loss at epo 160: 1.6457273772784642\n",
      "Loss at epo 170: 1.6365384110382626\n",
      "Loss at epo 180: 1.6284824899264745\n",
      "Loss at epo 190: 1.6214430110795157\n",
      "Loss at epo 200: 1.6153054918561662\n",
      "Loss at epo 210: 1.6099588658128465\n",
      "Loss at epo 220: 1.6052989082677023\n",
      "Loss at epo 230: 1.6012309380940029\n",
      "Loss at epo 240: 1.5976711119924272\n",
      "Loss at epo 250: 1.5945468928132738\n",
      "Loss at epo 260: 1.5917960064751762\n",
      "Loss at epo 270: 1.5893658297402518\n",
      "Loss at epo 280: 1.5872113168239594\n",
      "Loss at epo 290: 1.5852945864200592\n",
      "Loss at epo 300: 1.5835839441844395\n",
      "Loss at epo 310: 1.5820517080170768\n",
      "Loss at epo 320: 1.5806752605097634\n",
      "Loss at epo 330: 1.579434381212507\n",
      "Loss at epo 340: 1.5783127665519714\n",
      "Loss at epo 350: 1.5772955885955267\n",
      "Loss at epo 360: 1.5763705909252166\n",
      "Loss at epo 370: 1.5755271792411805\n",
      "Loss at epo 380: 1.5747561846460616\n",
      "Loss at epo 390: 1.5740493518965586\n",
      "Loss at epo 400: 1.5733997225761414\n",
      "Loss at epo 410: 1.5728016427585056\n",
      "Loss at epo 420: 1.572249480656215\n",
      "Loss at epo 430: 1.5717385206903731\n",
      "Loss at epo 440: 1.5712647557258606\n",
      "Loss at epo 450: 1.5708247440201895\n",
      "Loss at epo 460: 1.5704152056149074\n",
      "Loss at epo 470: 1.5700331849711282\n",
      "Loss at epo 480: 1.5696762459618705\n",
      "Loss at epo 490: 1.569342212166105\n",
      "Loss at epo 500: 1.5690290468079704\n",
      "Loss at epo 510: 1.5687349021434784\n",
      "Loss at epo 520: 1.5684584072657994\n",
      "Loss at epo 530: 1.5681980192661285\n",
      "Loss at epo 540: 1.5679522931575776\n",
      "Loss at epo 550: 1.5677200956004007\n",
      "Loss at epo 560: 1.5675005742481776\n",
      "Loss at epo 570: 1.567292539562498\n",
      "Loss at epo 580: 1.5670952107225145\n",
      "Loss at epo 590: 1.5669077856200082\n",
      "Loss at epo 600: 1.5667297031198228\n",
      "Loss at epo 610: 1.5665600078446524\n",
      "Loss at epo 620: 1.5663983804839\n",
      "Loss at epo 630: 1.566244158574513\n",
      "Loss at epo 640: 1.5660968746457782\n",
      "Loss at epo 650: 1.565956083365849\n",
      "Loss at epo 660: 1.5658212789467403\n",
      "Loss at epo 670: 1.56569213782038\n",
      "Loss at epo 680: 1.565568106515067\n",
      "Loss at epo 690: 1.5654491790703364\n",
      "Loss at epo 700: 1.5653349024908882\n",
      "Loss at epo 710: 1.5652248978614807\n",
      "Loss at epo 720: 1.5651190757751465\n",
      "Loss at epo 730: 1.5650171390601566\n",
      "Loss at epo 740: 1.5649187309401376\n",
      "Loss at epo 750: 1.56482384119715\n",
      "Loss at epo 760: 1.564732199907303\n",
      "Loss at epo 770: 1.5646435669490268\n",
      "Loss at epo 780: 1.564557865687779\n",
      "Loss at epo 790: 1.5644748330116272\n",
      "Loss at epo 800: 1.5643944927624294\n",
      "Loss at epo 810: 1.564316542659487\n",
      "Loss at epo 820: 1.5642409230981553\n",
      "Loss at epo 830: 1.56416745867048\n"
     ]
    }
   ],
   "source": [
    "embedding_dims = 10\n",
    "W1 = Variable(torch.randn(embedding_dims, vocabulary_size).float(), requires_grad=True)\n",
    "W2 = Variable(torch.randn(vocabulary_size, embedding_dims).float(), requires_grad=True)\n",
    "num_epochs = 10001\n",
    "learning_rate = 0.005\n",
    "\n",
    "for epo in range(num_epochs):\n",
    "    loss_val = 0\n",
    "    for data, target in idx_pairs:\n",
    "        x = Variable(get_input_layer(data)).float()\n",
    "        y_true = Variable(torch.from_numpy(np.array([target])).long())\n",
    "\n",
    "        z1 = torch.matmul(W1, x)\n",
    "        z2 = torch.matmul(W2, z1)\n",
    "    \n",
    "        log_softmax = F.log_softmax(z2, dim=0)\n",
    "\n",
    "        loss = F.nll_loss(log_softmax.view(1,-1), y_true)\n",
    "        loss_val += loss.item()\n",
    "        loss.backward()\n",
    "        W1.data -= learning_rate * W1.grad.data\n",
    "        W2.data -= learning_rate * W2.grad.data\n",
    "\n",
    "        W1.grad.data.zero_()\n",
    "        W2.grad.data.zero_()\n",
    "    if epo % 10 == 0:    \n",
    "        print(f'Loss at epo {epo}: {loss_val/len(idx_pairs)}')"
   ]
  },
  {
   "cell_type": "code",
   "execution_count": 50,
   "id": "c83e8bbb",
   "metadata": {},
   "outputs": [
    {
     "name": "stdout",
     "output_type": "stream",
     "text": [
      "tensor(27.6399, grad_fn=<SubBackward0>)\n",
      "tensor(15.3072, grad_fn=<SubBackward0>)\n",
      "tensor(35.0906, grad_fn=<SubBackward0>)\n"
     ]
    }
   ],
   "source": [
    "def similarity(v,u):\n",
    "  return torch.dot(v, v) + torch.dot(u, u) - 2*torch.dot(v,u) #/(torch.norm(v)*torch.norm(u))\n",
    "\n",
    "print(similarity(W1[:, word2idx[\"she\"]], W1[:, word2idx[\"king\"]]))\n",
    "\n",
    "print(similarity(W1[:, word2idx[\"she\"]], W1[:, word2idx[\"queen\"]]))\n",
    "print(similarity(W1[:, word2idx[\"he\"]], W1[:, word2idx[\"king\"]]))"
   ]
  },
  {
   "cell_type": "markdown",
   "id": "fced4172",
   "metadata": {},
   "source": [
    "## Visualization"
   ]
  },
  {
   "cell_type": "code",
   "execution_count": 58,
   "id": "12adb1ff",
   "metadata": {},
   "outputs": [
    {
     "data": {
      "image/png": "[encoded data removed]",
      "text/plain": [
       "<Figure size 1152x1152 with 1 Axes>"
      ]
     },
     "metadata": {
      "needs_background": "light"
     },
     "output_type": "display_data"
    }
   ],
   "source": [
    "from sklearn.feature_extraction.text import TfidfVectorizer\n",
    "tokens = W1.detach().numpy().T\n",
    "# tokens = W2.detach().numpy()\n",
    "labels = [val for _, val in idx2word.items()]\n",
    "from sklearn.manifold import TSNE\n",
    "from matplotlib import pyplot as plt\n",
    "tsne_model = TSNE(perplexity=10, n_components=2, init='pca', n_iter=5000, random_state=40)\n",
    "new_values = tsne_model.fit_transform(tokens)\n",
    "x = []\n",
    "y = []\n",
    "for value in new_values:\n",
    "    x.append(value[0])\n",
    "    y.append(value[1])\n",
    "    \n",
    "plt.figure(figsize=(16, 16))\n",
    "for i in range(len(x)):\n",
    "    plt.scatter(x[i],y[i])\n",
    "    plt.annotate(labels[i],\n",
    "    xy=(x[i], y[i]),\n",
    "    xytext=(5, 2),\n",
    "    textcoords='offset points',\n",
    "    ha='right',\n",
    "    va='bottom')\n",
    "plt.show()"
   ]
  },
  {
   "cell_type": "code",
   "execution_count": 35,
   "id": "4ede992b",
   "metadata": {},
   "outputs": [
    {
     "data": {
      "text/plain": [
       "{0: 'he',\n",
       " 1: 'is',\n",
       " 2: 'a',\n",
       " 3: 'king',\n",
       " 4: 'she',\n",
       " 5: 'queen',\n",
       " 6: 'man',\n",
       " 7: 'woman',\n",
       " 8: 'warsaw',\n",
       " 9: 'poland',\n",
       " 10: 'capital',\n",
       " 11: 'berlin',\n",
       " 12: 'germany',\n",
       " 13: 'paris',\n",
       " 14: 'france'}"
      ]
     },
     "execution_count": 35,
     "metadata": {},
     "output_type": "execute_result"
    }
   ],
   "source": [
    "idx2word"
   ]
  },
  {
   "cell_type": "code",
   "execution_count": null,
   "id": "e12af01c",
   "metadata": {},
   "outputs": [],
   "source": []
  }
 ],
 "metadata": {
  "kernelspec": {
   "display_name": "tabml_env",
   "language": "python",
   "name": "tabml_env"
  },
  "language_info": {
   "codemirror_mode": {
    "name": "ipython",
    "version": 3
   },
   "file_extension": ".py",
   "mimetype": "text/x-python",
   "name": "python",
   "nbconvert_exporter": "python",
   "pygments_lexer": "ipython3",
   "version": "3.8.7"
  }
 },
 "nbformat": 4,
 "nbformat_minor": 5
}
